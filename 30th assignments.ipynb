{
 "cells": [
  {
   "cell_type": "markdown",
   "id": "7936a3f7-c07b-4c88-8fa0-bfee00771eee",
   "metadata": {},
   "source": [
    "# 30th Jan assignments"
   ]
  },
  {
   "cell_type": "markdown",
   "id": "4b026341-349e-41f3-b578-cc7407f06347",
   "metadata": {},
   "source": [
    "1 write a program to accept percentage from the user and display the grade according to the following criteria:"
   ]
  },
  {
   "cell_type": "code",
   "execution_count": 22,
   "id": "2f4dff86-a085-4233-bc0d-2c2c0f7f5065",
   "metadata": {},
   "outputs": [
    {
     "name": "stdin",
     "output_type": "stream",
     "text": [
      "Enter the marks obtained:  59.59\n"
     ]
    },
    {
     "name": "stdout",
     "output_type": "stream",
     "text": [
      "your grade is:D\n"
     ]
    }
   ],
   "source": [
    "marks=float(input(\"Enter the marks obtained: \"))\n",
    "if marks>90:\n",
    "    print(\"Your grade is:A\")\n",
    "elif marks>80 and marks<=90:\n",
    "    print(\"your grade is:B\")\n",
    "elif marks>=60 and marks<=80:\n",
    "    print(\"Your grade is:C\")\n",
    "else:\n",
    "    print(\"your grade is:D\")"
   ]
  },
  {
   "cell_type": "markdown",
   "id": "facf4c23-d10d-4e58-a11a-ceaf029304ab",
   "metadata": {},
   "source": [
    "######################################################################################################################"
   ]
  },
  {
   "cell_type": "markdown",
   "id": "2d9310de-17ae-4275-91bb-51b9924556dd",
   "metadata": {},
   "source": [
    "2 write a program to accept the cost price of abike and display the road tax to be paid according to the following criteria:"
   ]
  },
  {
   "cell_type": "code",
   "execution_count": 26,
   "id": "92f165e6-9f15-4693-bde5-6e7122762319",
   "metadata": {},
   "outputs": [
    {
     "name": "stdin",
     "output_type": "stream",
     "text": [
      "Enter bike price: 49000\n"
     ]
    },
    {
     "name": "stdout",
     "output_type": "stream",
     "text": [
      "5% road Tax and Tax amount is 2450.0\n",
      "Don't drink and drive \n",
      " Always wear a helmet\n"
     ]
    }
   ],
   "source": [
    "bike_price=int(input(\"Enter bike price:\"))\n",
    "if bike_price>100000:\n",
    "    road_tax=bike_price*0.15\n",
    "    print(\"15% road Tax and Tax amount is \"+str(road_tax))\n",
    "elif bike_price<=100000 and bike_price>50000:\n",
    "    road_tax=bike_price*0.10\n",
    "    print(\"10% road Tax and Tax amount is \"+str(road_tax))\n",
    "else:\n",
    "    road_tax=bike_price*0.05\n",
    "    print(\"5% road Tax and Tax amount is \"+str(road_tax))\n",
    "print(\"Don't drink and drive \\n Always wear a helmet\")"
   ]
  },
  {
   "cell_type": "markdown",
   "id": "b7e941e8-7906-4743-8d18-46293ea24b58",
   "metadata": {},
   "source": [
    "###############################################################################################################################"
   ]
  },
  {
   "cell_type": "markdown",
   "id": "28ceddd3-5f50-4101-a563-7aeabc9f561d",
   "metadata": {},
   "source": [
    "3 Accept any city from the user and displaty mountanins of that city\n",
    "Delhi==Red fort\n",
    "Agra=Taj mahal\n",
    "Jaipur= Jal mahal"
   ]
  },
  {
   "cell_type": "code",
   "execution_count": 37,
   "id": "6afa8c4c-f251-45ab-b513-2aaaf9ddb107",
   "metadata": {},
   "outputs": [
    {
     "name": "stdin",
     "output_type": "stream",
     "text": [
      "Enter the City: Delhi\n"
     ]
    },
    {
     "name": "stdout",
     "output_type": "stream",
     "text": [
      "fort in Delhi : Red fort\n"
     ]
    }
   ],
   "source": [
    "city_fort={\"Delhi\":\"Red fort\",\"Agra\":\"Tajmahal\",\"Jaipur\":\"Jal mahal\"}\n",
    "city=str(input(\"Enter the City:\"))\n",
    "if city in city_fort:\n",
    "    print(\"fort in\",city,\":\" , city_fort[city])\n",
    "else:\n",
    "    print(\"Fort not found in \", city)"
   ]
  },
  {
   "cell_type": "markdown",
   "id": "5448ff8a-404a-444c-8f45-87dedb27065b",
   "metadata": {},
   "source": [
    "#####################################################################################################################"
   ]
  },
  {
   "cell_type": "markdown",
   "id": "22e37ed6-2bef-4687-be3c-ce0be36fc1f2",
   "metadata": {},
   "source": [
    "4 check how many times a given number can be divided by 3 before it is less than or equal to 10"
   ]
  },
  {
   "cell_type": "code",
   "execution_count": 46,
   "id": "59207217-4ef9-4117-a0a0-dd17c909e6ad",
   "metadata": {},
   "outputs": [
    {
     "name": "stdin",
     "output_type": "stream",
     "text": [
      "Enter the number:  50\n"
     ]
    },
    {
     "name": "stdout",
     "output_type": "stream",
     "text": [
      "The number can be divided by 3 is: 2\n"
     ]
    }
   ],
   "source": [
    "number=int(input(\"Enter the number: \"))\n",
    "count=0\n",
    "\n",
    "while number>10:\n",
    "    number=number/3\n",
    "    count +=1\n",
    "print(\"The number can be divided by 3 is:\", count, )\n"
   ]
  },
  {
   "cell_type": "markdown",
   "id": "ccfb83fc-f438-4ae4-b567-6ab9d3f80978",
   "metadata": {},
   "source": [
    "###################################################################################################################"
   ]
  },
  {
   "cell_type": "markdown",
   "id": "dfd224cb-203a-41b1-9b11-190910e3c3b1",
   "metadata": {},
   "source": [
    "5 Why and when to use while loop in python give detailed description with example"
   ]
  },
  {
   "cell_type": "markdown",
   "id": "f164cef9-2790-4c55-aa50-3e7917fc1cc2",
   "metadata": {},
   "source": [
    "Ans:A while loop in Python is used to repeatedly execute a block of code as long as a condition is true"
   ]
  },
  {
   "cell_type": "code",
   "execution_count": null,
   "id": "38c5c40c-e90d-4197-a199-86090cf17e8c",
   "metadata": {},
   "outputs": [],
   "source": [
    "#Syntax\n",
    "while condition:\n",
    "    #code to execute"
   ]
  },
  {
   "cell_type": "markdown",
   "id": "f9db1482-1b52-43dd-9ded-072dd4f96258",
   "metadata": {},
   "source": [
    "The condition is a boolean expression that is evaluated before each iteration of the loop. If the condition is True, the code inside the loop is executed and the condition is evaluated again. If the condition is False, the loop terminates and the program continues with the next line of code after the loop."
   ]
  },
  {
   "cell_type": "code",
   "execution_count": 48,
   "id": "5956fabd-664d-4645-b1fc-4a4970b37892",
   "metadata": {},
   "outputs": [
    {
     "name": "stdout",
     "output_type": "stream",
     "text": [
      "1\n",
      "2\n",
      "3\n",
      "4\n",
      "5\n",
      "6\n",
      "7\n",
      "8\n",
      "9\n",
      "10\n"
     ]
    }
   ],
   "source": [
    "# Example \n",
    "count=1\n",
    "while count <=10:\n",
    "    print(count)\n",
    "    count +=1"
   ]
  },
  {
   "cell_type": "markdown",
   "id": "17ad0d6f-cb99-4283-9552-287abb191ff5",
   "metadata": {},
   "source": [
    "Here upto count is less than or equal to 10 condition is \"True\" , as count become 11 condition get \"false\" and it get outside the loop "
   ]
  },
  {
   "cell_type": "markdown",
   "id": "3cfa75ad-977f-4229-bfc2-582cfde41dc1",
   "metadata": {},
   "source": [
    "######################################################################################################################"
   ]
  },
  {
   "cell_type": "markdown",
   "id": "ce0cc34a-911c-4598-8e98-2164728654ed",
   "metadata": {},
   "source": [
    "6 Use nested while loop to print 3 diffrent pattern"
   ]
  },
  {
   "cell_type": "markdown",
   "id": "64169d89-7d2a-47bd-a8b0-387fdd011746",
   "metadata": {},
   "source": [
    "Ans: 1 Triangle pattern"
   ]
  },
  {
   "cell_type": "code",
   "execution_count": 51,
   "id": "a39c0c44-f607-4afd-87bd-3276378c399d",
   "metadata": {},
   "outputs": [
    {
     "name": "stdout",
     "output_type": "stream",
     "text": [
      "* \n",
      "* * \n",
      "* * * \n",
      "* * * * \n",
      "* * * * * \n"
     ]
    }
   ],
   "source": [
    "var = 5\n",
    "for i in range(1, var+1):\n",
    "    j = 1\n",
    "    while j <= i:\n",
    "        print(\"*\", end=\" \")\n",
    "        j += 1\n",
    "    print(\"\")\n"
   ]
  },
  {
   "cell_type": "markdown",
   "id": "8c2b34d5-86bd-4851-91d0-692ad67fc3c9",
   "metadata": {},
   "source": [
    "2 Pyramid pattern:"
   ]
  },
  {
   "cell_type": "code",
   "execution_count": 2,
   "id": "25517fc6-e8b0-42c0-93bb-efb608cbe506",
   "metadata": {},
   "outputs": [
    {
     "name": "stdout",
     "output_type": "stream",
     "text": [
      "    * \n",
      "   * * \n",
      "  * * * \n",
      " * * * * \n",
      "* * * * * \n"
     ]
    }
   ],
   "source": [
    "rows = 5\n",
    "\n",
    "for i in range(1, rows+1):\n",
    "    spaces = rows - i\n",
    "    while spaces > 0:\n",
    "        print(\" \", end=\"\")\n",
    "        spaces -= 1\n",
    "    j = 1\n",
    "    while j <= i:\n",
    "        print(\"*\", end=\" \")\n",
    "        j += 1\n",
    "    print(\"\")\n"
   ]
  },
  {
   "cell_type": "markdown",
   "id": "8f3b5b68-5872-4e73-9365-d8698ad3960d",
   "metadata": {},
   "source": [
    "#############################################################################################################"
   ]
  },
  {
   "cell_type": "markdown",
   "id": "8e8d7ea9-c349-4244-9e01-af375db79f9f",
   "metadata": {},
   "source": [
    "7 and 8 Reverse a while loop to display numbers from 10 to 1"
   ]
  },
  {
   "cell_type": "code",
   "execution_count": 1,
   "id": "1712dec6-3443-4270-8824-612a171da27d",
   "metadata": {},
   "outputs": [
    {
     "name": "stdout",
     "output_type": "stream",
     "text": [
      "10\n",
      "9\n",
      "8\n",
      "7\n",
      "6\n",
      "5\n",
      "4\n",
      "3\n",
      "2\n",
      "1\n"
     ]
    }
   ],
   "source": [
    "count = 10\n",
    "\n",
    "while count >= 1:\n",
    "    print(count)\n",
    "    count -= 1\n"
   ]
  },
  {
   "cell_type": "markdown",
   "id": "dfc16822-6060-466c-a745-e3fa3537b92a",
   "metadata": {},
   "source": [
    "###############################################################################################################3"
   ]
  }
 ],
 "metadata": {
  "kernelspec": {
   "display_name": "Python 3 (ipykernel)",
   "language": "python",
   "name": "python3"
  },
  "language_info": {
   "codemirror_mode": {
    "name": "ipython",
    "version": 3
   },
   "file_extension": ".py",
   "mimetype": "text/x-python",
   "name": "python",
   "nbconvert_exporter": "python",
   "pygments_lexer": "ipython3",
   "version": "3.10.8"
  }
 },
 "nbformat": 4,
 "nbformat_minor": 5
}
