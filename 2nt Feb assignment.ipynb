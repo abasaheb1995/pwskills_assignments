{
 "cells": [
  {
   "cell_type": "markdown",
   "id": "4006385e-2125-4e27-91fb-439a60d4ee79",
   "metadata": {},
   "source": [
    "########################################################################################################################"
   ]
  },
  {
   "cell_type": "markdown",
   "id": "671b0aa4-ebb7-40d1-8285-64380d94e625",
   "metadata": {},
   "source": [
    "Q1. What are the characteristics of the tuples? Is tuple immutable?\n"
   ]
  },
  {
   "cell_type": "markdown",
   "id": "70218a00-2166-44f7-b0ca-65435345a0b0",
   "metadata": {},
   "source": [
    "Ans: Foloowing are the characteristics of tuples:\n",
    "\n",
    "1)Tuples are immutable, meaning once they are created, their contents cannot be modified.\n",
    "2)Tuples are created using parentheses.  ()\n",
    "3)Tuples can contain elements of different data types.\n",
    "\n",
    "Yes tuples are immutable\n",
    "\n",
    "ex. my_tuples= (1,2,\"abasaheb\", 10.5)"
   ]
  },
  {
   "cell_type": "markdown",
   "id": "72b5b9bd-b480-4d19-a46b-4bcdd84d1836",
   "metadata": {},
   "source": [
    "############################################################################################################################"
   ]
  },
  {
   "cell_type": "markdown",
   "id": "9acc1935-b7f4-467a-b040-ded378772765",
   "metadata": {},
   "source": [
    "Q2  What are the two tuple methods in python? Give an example of each method. Give a reason why \n",
    "tuples have only two in-built methods as compared to Lists."
   ]
  },
  {
   "cell_type": "markdown",
   "id": "485699e3-7810-477f-af60-d9b5e2375bb5",
   "metadata": {},
   "source": [
    "Ans : Tuple have two in-build methods:\n",
    "1 \"count()\"method- This method retuns the number of times specified element appears in tuple.\n",
    "For example "
   ]
  },
  {
   "cell_type": "code",
   "execution_count": 4,
   "id": "f843238f-34a6-49a2-a013-c91a82b2abad",
   "metadata": {},
   "outputs": [
    {
     "name": "stdout",
     "output_type": "stream",
     "text": [
      "Output=The count is 2\n"
     ]
    }
   ],
   "source": [
    "tuple=(1,3,2,3,4,2)\n",
    "count=tuple.count(3)\n",
    "print(\"Output=The count is\",count)"
   ]
  },
  {
   "cell_type": "markdown",
   "id": "625475da-9ffc-4c8b-91a6-2c759e6549eb",
   "metadata": {},
   "source": [
    "2 \"Index()\" method- Index method returns  the index number of specified element in tuple.\n",
    "For example"
   ]
  },
  {
   "cell_type": "code",
   "execution_count": 5,
   "id": "e749f108-685c-49cd-b705-2976cc5da91d",
   "metadata": {},
   "outputs": [
    {
     "name": "stdout",
     "output_type": "stream",
     "text": [
      "output=Index number of given number is: 2\n"
     ]
    }
   ],
   "source": [
    "tuple1=(1,2,3,4,2,5,3)\n",
    "index1=tuple1.index(3)\n",
    "print(\"output=Index number of given number is:\",index1)"
   ]
  },
  {
   "cell_type": "markdown",
   "id": "9eb580af-bfec-4128-bc2e-fa92a8c46012",
   "metadata": {},
   "source": [
    "Tuples have only two in-biuld methods b'caz tuples are immutable , so tuples don't need to modife the content and lists are the mutable in that we can modife the content so list have more in-build methods like \"append()\",\"remove()\",pop() and \"insert()\"."
   ]
  },
  {
   "cell_type": "markdown",
   "id": "02565686-9a9c-45c3-89a7-0ea1317cd70e",
   "metadata": {},
   "source": [
    "#########################################################################################################################"
   ]
  },
  {
   "cell_type": "markdown",
   "id": "b75e2702-f874-4d66-913d-fcbc57a0d5b6",
   "metadata": {},
   "source": [
    " Q3 Which collection datatypes in python do not allow duplicate items? Write a code using a set to remove \n",
    "duplicates from the given list.\n",
    "List = [1, 1, 1, 2, 1, 3, 1, 4, 2, 1, 2, 2, 2, 3, 2, 4, 3, 1, 3, 2, 3, 3, 3, 4, 4, 1, 4, 2, 4, 3, 4, 4]"
   ]
  },
  {
   "cell_type": "markdown",
   "id": "36e08d71-64af-4ccf-804c-64368ce6fa89",
   "metadata": {},
   "source": [
    "Ans: Set data type not allowed duplicate items.\n",
    "For example"
   ]
  },
  {
   "cell_type": "code",
   "execution_count": 7,
   "id": "aa2b32aa-26f8-4d04-a52f-c0bc132f221f",
   "metadata": {},
   "outputs": [
    {
     "name": "stdout",
     "output_type": "stream",
     "text": [
      "New list with no dulpicate elements, new list= [1, 2, 3, 4]\n"
     ]
    }
   ],
   "source": [
    "List = [1, 1, 1, 2, 1, 3, 1, 4, 2, 1, 2, 2, 2, 3, 2, 4, 3, 1, 3, 2, 3, 3, 3, 4, 4, 1, 4, 2, 4, 3, 4, 4]\n",
    "set1=set(List)\n",
    "list1=list(set1)\n",
    "print(\"New list with no dulpicate elements, new list=\",list1)"
   ]
  },
  {
   "cell_type": "markdown",
   "id": "af6aa056-75f8-4729-95e3-284de594cedf",
   "metadata": {},
   "source": [
    "###########################################################################################################################"
   ]
  },
  {
   "cell_type": "markdown",
   "id": "55cd8ba4-13f7-4fa7-8b98-80475d183fcd",
   "metadata": {},
   "source": [
    " Q4 Explain the difference between the union() and update() methods for a set. Give an example of \n",
    "each method.\n",
    "\n",
    "Ans : Both union() and update() are used to combines the sets which works diffrently \n"
   ]
  },
  {
   "cell_type": "markdown",
   "id": "fa1ab605-13ca-4d07-87e9-01d08df590d3",
   "metadata": {},
   "source": [
    "1 union(): This method returns the new set that contains the unique elements from both the set. it not modified the original sets.\n",
    "For example:"
   ]
  },
  {
   "cell_type": "code",
   "execution_count": 8,
   "id": "451729b2-3963-4f38-90d3-f708cd74540b",
   "metadata": {},
   "outputs": [
    {
     "name": "stdout",
     "output_type": "stream",
     "text": [
      "output of combined set is {1, 2, 3, 4, 5, 6, 7}\n"
     ]
    }
   ],
   "source": [
    "set1={1,2,3,4,5}\n",
    "set2={3,4,5,6,7}\n",
    "combine_set=set1.union(set2)\n",
    "print(\"output of combined set is\",combine_set)"
   ]
  },
  {
   "cell_type": "markdown",
   "id": "587affd4-abc4-43d2-b1a6-a4876317bd47",
   "metadata": {},
   "source": [
    "2 update(): This method add all the element from another set to original set and make all elements unique. it modified the original set.\n",
    "For example "
   ]
  },
  {
   "cell_type": "code",
   "execution_count": 10,
   "id": "b5175d43-0ebb-4ace-91bd-277c0d2cefab",
   "metadata": {},
   "outputs": [
    {
     "name": "stdout",
     "output_type": "stream",
     "text": [
      "output after update the sets is  {1, 2, 3, 4, 5, 6, 7, 8, 9}\n"
     ]
    }
   ],
   "source": [
    "set3={1,2,3,4,5,6}\n",
    "set4={4,5,6,7,8,9}\n",
    "set3.update(set4)\n",
    "print(\"output after update the sets is \",set3)"
   ]
  },
  {
   "cell_type": "markdown",
   "id": "88550cf1-7afb-46af-b9f2-10c1f61e3710",
   "metadata": {},
   "source": [
    "#######################################################################################################################"
   ]
  },
  {
   "cell_type": "markdown",
   "id": "d936ae45-2e58-4071-a0a6-e212899da317",
   "metadata": {},
   "source": [
    "Q5 What is a dictionary? Give an example. Also, state whether a dictionary is ordered or unordered."
   ]
  },
  {
   "cell_type": "markdown",
   "id": "e6096764-727d-4d93-b2f9-b1d79945cfae",
   "metadata": {},
   "source": [
    "Ans : Dictionary is the combination of key-value paires, each key in the dictionary is unique and associted with a value."
   ]
  },
  {
   "cell_type": "markdown",
   "id": "68e8c8d8-8d9f-4d9a-98c9-954b72227977",
   "metadata": {},
   "source": [
    "Dictionaries are unordered "
   ]
  },
  {
   "cell_type": "markdown",
   "id": "a04c5585-7882-4c90-b446-e9d0ce9275d6",
   "metadata": {},
   "source": [
    "######################################################################################################################"
   ]
  },
  {
   "cell_type": "markdown",
   "id": "55ac47e4-3c47-4e96-90e7-d1e9208324b7",
   "metadata": {},
   "source": [
    "Q6  Can we create a nested dictionary? If so, please give an example by creating a simple one-level \n",
    "nested dictionary."
   ]
  },
  {
   "cell_type": "markdown",
   "id": "bee300bb-bf1b-4db0-8ea1-94ce5095e875",
   "metadata": {},
   "source": [
    "Yes , we can create the nested dictionary.\n",
    "Example "
   ]
  },
  {
   "cell_type": "code",
   "execution_count": 16,
   "id": "819d9159-2ec0-4c16-9ece-1ba29ae5c465",
   "metadata": {},
   "outputs": [
    {
     "name": "stdout",
     "output_type": "stream",
     "text": [
      "{'name': 'abasaheb', 'age': 27, 'phone_number': 99999999}\n",
      "{'name': 'varun', 'age': 26, 'phone_number': 8888888}\n",
      "student1 phone number is 99999999\n"
     ]
    }
   ],
   "source": [
    "student_details={\"student1\":{\"name\":\"abasaheb\",\"age\":27,\"phone_number\":99999999},\"student2\":{\"name\":\"varun\",\"age\":26,\"phone_number\":8888888}}\n",
    "print(student_details[\"student1\"])\n",
    "print(student_details[\"student2\"])\n",
    "print(\"student1 phone number is\",student_details[\"student1\"][\"phone_number\"])"
   ]
  },
  {
   "cell_type": "markdown",
   "id": "f4c55aaf-bf20-4c37-b5a0-8dcd5acd17bd",
   "metadata": {},
   "source": [
    "###################################################################################################################"
   ]
  },
  {
   "cell_type": "markdown",
   "id": "8116eadc-662f-445a-9837-47fe8fbb0e62",
   "metadata": {},
   "source": [
    "Q7  Using setdefault() method, create key named topics in the given dictionary and also add the value of \n",
    "the key as this list ['Python', 'Machine Learning’, 'Deep Learning']\n",
    "\n",
    "\n",
    "dict1 = {'language' : 'Python', 'course': 'Data Science Masters'}"
   ]
  },
  {
   "cell_type": "markdown",
   "id": "b9fb3361-c1b8-4b0f-9a36-652a58236e51",
   "metadata": {},
   "source": [
    "Ans: setdefault() method used to add new key-pair in dict.Example"
   ]
  },
  {
   "cell_type": "code",
   "execution_count": 18,
   "id": "a08dc78d-3aa3-4a66-912c-5a873cd4cdf8",
   "metadata": {},
   "outputs": [
    {
     "name": "stdout",
     "output_type": "stream",
     "text": [
      "{'language': 'english', 'course': 'Data science Master', 'topics': ['python', 'machine learning', 'deep learning']}\n"
     ]
    }
   ],
   "source": [
    "dict1={\"language\":\"english\",\"course\":\"Data science Master\"}\n",
    "dict1.setdefault(\"topics\",[\"python\",\"machine learning\",\"deep learning\"])\n",
    "print(dict1)"
   ]
  },
  {
   "cell_type": "markdown",
   "id": "df4d6116-ad7f-4edc-9cfe-8fd0300c6918",
   "metadata": {},
   "source": [
    "#######################################################################################################################"
   ]
  },
  {
   "cell_type": "markdown",
   "id": "af88fde8-2859-414f-a94e-fa370a12957a",
   "metadata": {},
   "source": [
    "Q8  What are the three view objects in dictionaries? Use the three in-built methods in python to display \n",
    "these three view objects for the given dictionary.\n",
    "\n",
    "\n",
    "dict1 = {'Sport': 'Cricket' , 'Teams': ['India', 'Australia', 'England', 'South Africa', 'Sri Lanka', 'New Zealand']}"
   ]
  },
  {
   "cell_type": "markdown",
   "id": "37878f60-4559-49cf-a2ae-2c8827fe6e39",
   "metadata": {},
   "source": [
    "Ans : There are three view objects in dict which are follows:"
   ]
  },
  {
   "cell_type": "markdown",
   "id": "ba5ecca4-82ed-44fd-9b24-8a1314c020a5",
   "metadata": {},
   "source": [
    "1 dict.keys(): This returns the view object that contains the keys of dict."
   ]
  },
  {
   "cell_type": "markdown",
   "id": "832d0649-7b69-4a4f-8599-17dc99ce8974",
   "metadata": {},
   "source": [
    "2 dict.values(): This returns the view object that contains the values of dict"
   ]
  },
  {
   "cell_type": "markdown",
   "id": "39bc4382-2a4b-49f4-8539-0c3d50f95728",
   "metadata": {},
   "source": [
    "3 dict.items(): This returns the veiw object , that contains the key-pair of dict output as tuple"
   ]
  },
  {
   "cell_type": "code",
   "execution_count": 24,
   "id": "2b65df2b-0c6c-4d50-9bd6-e7efd521f8ac",
   "metadata": {},
   "outputs": [
    {
     "name": "stdout",
     "output_type": "stream",
     "text": [
      "Key view object is show the all keys of dict as: dict_keys(['sport', 'teams'])\n",
      "Value view object shows the values of dict as: dict_values(['cricket', ['india', 'Australia', 'England', 'South Africa', 'Sri lanka', 'New Zealand']])\n",
      "Item view object shows the key and values of dict output as tuple : dict_items([('sport', 'cricket'), ('teams', ['india', 'Australia', 'England', 'South Africa', 'Sri lanka', 'New Zealand'])])\n"
     ]
    }
   ],
   "source": [
    "#Example \n",
    "dict1={\"sport\":\"cricket\",\"teams\":[\"india\",\"Australia\",\"England\",\"South Africa\",\"Sri lanka\",\"New Zealand\"]}\n",
    "#Key_view\n",
    "key_view=dict1.keys()\n",
    "print(\"Key view object is show the all keys of dict as:\",key_view)\n",
    "#value_view\n",
    "value_view=dict1.values()\n",
    "print(\"Value view object shows the values of dict as:\",value_view)\n",
    "#item_view\n",
    "item_view=dict1.items()\n",
    "print(\"Item view object shows the key and values of dict output as tuple :\",item_view)"
   ]
  },
  {
   "cell_type": "markdown",
   "id": "0806e356-ea94-4ad2-aade-ce69c20fb47d",
   "metadata": {},
   "source": [
    "#########################################################################################################################"
   ]
  }
 ],
 "metadata": {
  "kernelspec": {
   "display_name": "Python 3 (ipykernel)",
   "language": "python",
   "name": "python3"
  },
  "language_info": {
   "codemirror_mode": {
    "name": "ipython",
    "version": 3
   },
   "file_extension": ".py",
   "mimetype": "text/x-python",
   "name": "python",
   "nbconvert_exporter": "python",
   "pygments_lexer": "ipython3",
   "version": "3.10.8"
  }
 },
 "nbformat": 4,
 "nbformat_minor": 5
}
